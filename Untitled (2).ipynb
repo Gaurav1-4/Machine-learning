{
  "nbformat": 4,
  "nbformat_minor": 0,
  "metadata": {
    "colab": {
      "provenance": []
    },
    "kernelspec": {
      "name": "python3",
      "display_name": "Python 3"
    },
    "language_info": {
      "name": "python"
    }
  },
  "cells": [
    {
      "cell_type": "markdown",
      "source": [
        "**1. What is a parameter?**\n",
        "-\tModel parameters are learned from data and control predictions.\n",
        "-\tHyperparameters are set before training and control the learning process.\n",
        "-\tFunction parameters are code-level inputs used to configure models.\n",
        "-\tStatistical parameters describe data distributions and are estimated from data."
      ],
      "metadata": {
        "id": "CX6bgVZZN-Ut"
      }
    },
    {
      "cell_type": "markdown",
      "source": [
        "**2. What is correlation?**\n",
        "- Correlation is a statistical measure that shows the strength and direction of a relationship between two variables. It helps us understand whether, and how strongly, the values of two variables are related.\n",
        "- Correlation tells us how strongly two variables are related. It can be positive, negative, or zero. The Pearson correlation coefficient (r) quantifies this relationship from -1 to +1. In machine learning, it’s useful during feature selection and EDA to understand variable relationships. However, it doesn’t capture nonlinear patterns and should not be confused with causation.\n"
      ],
      "metadata": {
        "id": "5gpRCGl_O4cP"
      }
    },
    {
      "cell_type": "markdown",
      "source": [
        "**3. What does negative correlation mean?**\n",
        "- Negative correlation means that as one variable increases, the other decreases. There is an inverse relationship between the two variables.\n",
        "- Negative correlation means that two variables move in opposite directions—if one increases, the other decreases. It’s represented by a correlation coefficient between 0 and -1. In machine learning, identifying such relationships helps in feature selection, understanding patterns in data, and improving model interpretability."
      ],
      "metadata": {
        "id": "BsdcpOJAPjTr"
      }
    },
    {
      "cell_type": "markdown",
      "source": [
        "**4. Define Machine Learning. What are the main components in Machine Learning?**\n",
        "- Machine Learning (ML) is a branch of Artificial Intelligence (AI) that focuses on creating systems that can learn from data and improve their performance over time without being explicitly programmed. Instead of writing rules manually, ML algorithms find patterns in data and make predictions or decisions based on it.\n",
        "- Machine Learning is the science of enabling systems to learn from data and make predictions or decisions. Its main components include data (raw input), features (predictor variables), model (the learner), algorithm (training method), loss function (error calculator), training process, evaluation metrics, and inference (making predictions). Together, these elements work to build intelligent systems that improve over time."
      ],
      "metadata": {
        "id": "mFqIm8MNPxWG"
      }
    },
    {
      "cell_type": "markdown",
      "source": [
        "**5. How does loss value help in determining whether the model is good or not?**\n",
        "- The loss value is a key metric in machine learning that tells us how far off the model’s predictions are from the actual target values. It plays a central role in evaluating and improving the model’s performance during training.\n",
        "- The loss value helps determine if a model is good by measuring how far its predictions deviate from actual outcomes. A lower loss means better predictions, while a higher loss indicates poor performance. It is crucial during training, as the model uses it to adjust its internal parameters and improve. Unlike accuracy, loss provides a more sensitive and continuous feedback, especially useful when comparing models or detecting overfitting."
      ],
      "metadata": {
        "id": "wKxk24qZQoQT"
      }
    },
    {
      "cell_type": "markdown",
      "source": [
        "**6. What are continuous and categorical variables?**\n",
        "- In machine learning and data analysis, variables (also called features or columns) are typically classified into two main types: continuous and categorical. Understanding this distinction is essential for data preprocessing, feature selection, and model building.\n",
        "- Continuous variables are numerical and measurable values that can take any value within a range, like height or income. Categorical variables represent group labels or categories, like gender or education level. Continuous variables are used in regression and may need scaling, while categorical variables require encoding before being used in machine learning models."
      ],
      "metadata": {
        "id": "-LXBYbjZQxl6"
      }
    },
    {
      "cell_type": "markdown",
      "source": [
        "**7. How do we handle categorical variables in Machine Learning? What are the common techniques?**\n",
        "- Categorical variables must be converted into numerical format before feeding them into most machine learning models, because models work with numbers — not text or labels. This process is called encoding.\n",
        "- To use categorical variables in machine learning, we must convert them into numbers. The most common techniques are label encoding (for ordered categories), one-hot encoding (for unordered categories), and ordinal encoding (with a defined rank). Other techniques like frequency encoding, target encoding, and binary encoding help when dealing with high-cardinality data or when reducing dimensionality is important. The choice depends on the type of data and the model being used."
      ],
      "metadata": {
        "id": "obkeK-GtQ-FZ"
      }
    },
    {
      "cell_type": "markdown",
      "source": [
        "**8. What do you mean by training and testing a dataset?**\n",
        "- In machine learning, training and testing a dataset refers to splitting your data into two parts so that the model can learn from one part and be evaluated on the other. This is essential for building models that generalize well to new, unseen data.\n",
        "- Training a dataset means using part of the data to teach the machine learning model how to make predictions by learning patterns. Testing a dataset means evaluating the trained model on new, unseen data to check its performance. This separation helps ensure the model is not just memorizing but can generalize to real-world situations."
      ],
      "metadata": {
        "id": "ChhtTng7RQ3L"
      }
    },
    {
      "cell_type": "markdown",
      "source": [
        "**9. What is sklearn.preprocessing?**\n",
        "- sklearn.preprocessing is a module in the Scikit-learn (sklearn) library that provides tools for preprocessing and transforming data before feeding it into a machine learning model. Preprocessing is a crucial step because raw data often contains issues like different scales, missing values, or non-numeric values.\n",
        "- sklearn.preprocessing is a Scikit-learn module used to clean, scale, and transform raw data into a suitable format for machine learning models. It includes tools for scaling numerical features, encoding categorical variables, normalizing data, and creating polynomial features. Preprocessing ensures that the input data is consistent, properly scaled, and model-friendly, which directly affects model performance."
      ],
      "metadata": {
        "id": "4pMHBguzTw_h"
      }
    },
    {
      "cell_type": "markdown",
      "source": [
        "**10. What is a Test set?**\n",
        "- A test set is a portion of the dataset that is kept separate from the training process and is used only to evaluate the performance of a trained machine learning model.\n",
        "- A test set is a reserved part of the dataset used to evaluate how well a machine learning model performs on new, unseen data. It is not used during training or tuning. The test set provides a realistic measure of model accuracy and generalization, making it a critical component of the ML workflow.\n"
      ],
      "metadata": {
        "id": "aCUXuS24T_od"
      }
    },
    {
      "cell_type": "markdown",
      "source": [
        "**11. How do we split data for model fitting (training and testing) in Python?**"
      ],
      "metadata": {
        "id": "iMcnfK7-UM80"
      }
    },
    {
      "cell_type": "code",
      "execution_count": null,
      "metadata": {
        "id": "6vwrPkkLNhXR",
        "colab": {
          "base_uri": "https://localhost:8080/"
        },
        "outputId": "4ae43d78-dc84-4305-db5c-d573d40600bc"
      },
      "outputs": [
        {
          "output_type": "stream",
          "name": "stdout",
          "text": [
            "Training data shape: (6, 2)\n",
            "Testing data shape: (2, 2)\n"
          ]
        }
      ],
      "source": [
        "import pandas as pd\n",
        "from sklearn.model_selection import train_test_split\n",
        "\n",
        "# Sample dataset\n",
        "data = pd.DataFrame({\n",
        "    'Age': [22, 25, 47, 52, 46, 56, 44, 36],\n",
        "    'Salary': [21000, 25000, 47000, 52000, 46000, 56000, 44000, 36000],\n",
        "    'Purchased': [0, 0, 1, 1, 1, 1, 0, 0]\n",
        "})\n",
        "\n",
        "X = data[['Age', 'Salary']]   # features\n",
        "y = data['Purchased']         # target\n",
        "\n",
        "# Splitting\n",
        "X_train, X_test, y_train, y_test = train_test_split(X, y, test_size=0.25, random_state=1)\n",
        "\n",
        "print(\"Training data shape:\", X_train.shape)\n",
        "print(\"Testing data shape:\", X_test.shape)"
      ]
    },
    {
      "cell_type": "markdown",
      "source": [
        "**bold text**"
      ],
      "metadata": {
        "id": "DpnKCI5gq0nK"
      }
    },
    {
      "cell_type": "markdown",
      "source": [
        "**12. How do you approach a Machine Learning problem?**\n",
        "- We load the Iris flower dataset and split it into training and testing sets. Then we train a Random Forest model to learn from the training data. Finally, we test the model on new data and print the accuracy to see how well it performs in predicting flower species."
      ],
      "metadata": {
        "id": "3Xl4uObLq2SK"
      }
    },
    {
      "cell_type": "code",
      "source": [
        "from sklearn.datasets import load_iris\n",
        "from sklearn.model_selection import train_test_split\n",
        "from sklearn.ensemble import RandomForestClassifier\n",
        "from sklearn.metrics import accuracy_score\n",
        "import pandas as pd\n",
        "\n",
        "# Load and prepare data\n",
        "iris = load_iris()\n",
        "X = pd.DataFrame(iris.data, columns=iris.feature_names)\n",
        "y = iris.target\n",
        "\n",
        "# Split data\n",
        "X_train, X_test, y_train, y_test = train_test_split(X, y, test_size=0.2, random_state=42)\n",
        "\n",
        "# Train model\n",
        "model = RandomForestClassifier()\n",
        "model.fit(X_train, y_train)\n",
        "\n",
        "# Predict and evaluate\n",
        "y_pred = model.predict(X_test)\n",
        "accuracy = accuracy_score(y_test, y_pred)\n",
        "print(\"Accuracy:\", accuracy)"
      ],
      "metadata": {
        "colab": {
          "base_uri": "https://localhost:8080/"
        },
        "id": "B9yfpy96rtYx",
        "outputId": "dcd7b810-c2a0-42a4-e54a-7a8c2717c940"
      },
      "execution_count": null,
      "outputs": [
        {
          "output_type": "stream",
          "name": "stdout",
          "text": [
            "Accuracy: 1.0\n"
          ]
        }
      ]
    },
    {
      "cell_type": "markdown",
      "source": [
        "**13. Why do we have to perform EDA before fitting a model to the data?**\n",
        "-\tUnderstand the data\n",
        "You learn what each column means, what values are present, and what the target is.\n",
        "-\tDetect missing or incorrect values\n",
        "Models don’t work well with missing or wrongly formatted data. EDA helps identify these issues.\n",
        "-\tIdentify patterns and relationships\n",
        "You can find which features are strongly related to the target, which helps in feature selection.\n",
        "-\tSpot outliers or unusual data\n",
        "Outliers can badly affect model performance, especially in regression tasks.\n",
        "-\tChoose the right model or transformation\n",
        "If your target is skewed or categorical, it might guide you toward using classification instead of regression or using log-transformations.\n",
        "-\tAvoid garbage in, garbage out\n",
        "If the input data is not clean and well-understood, the model will give poor results."
      ],
      "metadata": {
        "id": "6xksTgItseq8"
      }
    },
    {
      "cell_type": "markdown",
      "source": [
        "**14. How can you find correlation between variables in Python?**"
      ],
      "metadata": {
        "id": "OZmtljgCq2Pk"
      }
    },
    {
      "cell_type": "code",
      "source": [
        "import pandas as pd\n",
        "\n",
        "# Sample dataset\n",
        "data = pd.DataFrame({\n",
        "    'Age': [22, 25, 47, 52, 46, 56, 44, 36],\n",
        "    'Salary': [21000, 25000, 47000, 52000, 46000, 56000, 44000, 36000],\n",
        "    'Experience': [1, 2, 20, 24, 20, 30, 18, 10]\n",
        "})\n",
        "\n",
        "# Calculate correlation matrix\n",
        "correlation_matrix = data.corr()\n",
        "\n",
        "print(correlation_matrix)"
      ],
      "metadata": {
        "colab": {
          "base_uri": "https://localhost:8080/"
        },
        "id": "Mz6TOiwgtPls",
        "outputId": "306ebd70-a8a8-4166-f75d-05afb09bf382"
      },
      "execution_count": null,
      "outputs": [
        {
          "output_type": "stream",
          "name": "stdout",
          "text": [
            "                 Age    Salary  Experience\n",
            "Age         1.000000  0.999757    0.994507\n",
            "Salary      0.999757  1.000000    0.992829\n",
            "Experience  0.994507  0.992829    1.000000\n"
          ]
        }
      ]
    },
    {
      "cell_type": "markdown",
      "source": [
        "**15. What is causation? Explain difference between correlation and causation with an example.**\n",
        "- Causation means one variable directly affects another.\n",
        "If A causes B, then changing A will result in a change in B.\n",
        "-\tCorrelation shows a relationship, but not why it happens.\n",
        "-\tCausation shows a reason-effect link — one thing actually changes the other.\n",
        "- Models based on correlation can be useful for prediction, but we must be careful not to assume causation unless it’s proven (usually through experiments or deeper analysis)."
      ],
      "metadata": {
        "id": "msvNcnyFq2NA"
      }
    },
    {
      "cell_type": "markdown",
      "source": [
        "**16. What is an Optimizer? What are different types of optimizers? Explain each with an example.**\n",
        "- An optimizer is a method used in machine learning to adjust the weights of a model during training to minimize the loss (error).\n",
        "It plays a key role in how well and how fast your model learns.\n",
        "\t1.\tSGD (Stochastic Gradient Descent)\n",
        "Uses the gradient of the loss to update weights. It works with small batches and is simple but can be slow.\n",
        "\t2.\tSGD with Momentum\n",
        "Improves SGD by adding a fraction of the previous update to the current one. Helps speed up learning and avoid getting stuck.\n",
        "\t3.\tAdaGrad\n",
        "Adapts the learning rate for each parameter. Works well with sparse data but learning slows down over time.\n",
        "\t4.\tRMSprop\n",
        "Fixes AdaGrad’s issue by using a moving average of squared gradients. Useful for non-stationary problems like time series.\n",
        "\t5.\tAdam (Adaptive Moment Estimation)\n",
        "Most popular optimizer. Combines momentum and RMSprop ideas. Automatically adjusts learning rates and works well in most cases."
      ],
      "metadata": {
        "id": "zhwda8wTq2Hf"
      }
    },
    {
      "cell_type": "code",
      "source": [
        "from tensorflow.keras.models import Sequential\n",
        "from tensorflow.keras.layers import Dense\n",
        "from tensorflow.keras.optimizers import SGD, Adagrad, RMSprop, Adam\n",
        "\n",
        "# Define a simple model\n",
        "def create_model():\n",
        "    model = Sequential()\n",
        "    model.add(Dense(16, input_dim=10, activation='relu'))\n",
        "    model.add(Dense(1, activation='sigmoid'))\n",
        "    return model\n",
        "\n",
        "# 1. SGD\n",
        "model_sgd = create_model()\n",
        "model_sgd.compile(optimizer=SGD(learning_rate=0.01), loss='binary_crossentropy', metrics=['accuracy'])\n",
        "\n",
        "# 2. SGD with Momentum\n",
        "model_momentum = create_model()\n",
        "model_momentum.compile(optimizer=SGD(learning_rate=0.01, momentum=0.9), loss='binary_crossentropy', metrics=['accuracy'])\n",
        "\n",
        "# 3. AdaGrad\n",
        "model_adagrad = create_model()\n",
        "model_adagrad.compile(optimizer=Adagrad(learning_rate=0.01), loss='binary_crossentropy', metrics=['accuracy'])\n",
        "\n",
        "# 4. RMSprop\n",
        "model_rmsprop = create_model()\n",
        "model_rmsprop.compile(optimizer=RMSprop(learning_rate=0.001), loss='binary_crossentropy', metrics=['accuracy'])\n",
        "\n",
        "# 5. Adam\n",
        "model_adam = create_model()\n",
        "model_adam.compile(optimizer=Adam(learning_rate=0.001), loss='binary_crossentropy', metrics=['accuracy'])"
      ],
      "metadata": {
        "colab": {
          "base_uri": "https://localhost:8080/"
        },
        "id": "WUzNlOmTt6D5",
        "outputId": "1ef7fa67-91cf-4c93-cc4a-401fb88a3dbd"
      },
      "execution_count": null,
      "outputs": [
        {
          "output_type": "stream",
          "name": "stderr",
          "text": [
            "/usr/local/lib/python3.11/dist-packages/keras/src/layers/core/dense.py:87: UserWarning: Do not pass an `input_shape`/`input_dim` argument to a layer. When using Sequential models, prefer using an `Input(shape)` object as the first layer in the model instead.\n",
            "  super().__init__(activity_regularizer=activity_regularizer, **kwargs)\n"
          ]
        }
      ]
    },
    {
      "cell_type": "markdown",
      "source": [
        "**17. What does model.fit() do? What arguments must be given?**\n",
        "- The model.fit() function is used to train your machine learning model on the training data.\n",
        "It feeds the input data (X) and the labels (y) into the model and adjusts the weights to minimize the loss.\n"
      ],
      "metadata": {
        "id": "Wj9pSN1sq2Ep"
      }
    },
    {
      "cell_type": "code",
      "source": [
        "from sklearn.ensemble import RandomForestClassifier\n",
        "\n",
        "model = RandomForestClassifier()\n",
        "model.fit(X_train, y_train)  # No epochs here"
      ],
      "metadata": {
        "colab": {
          "base_uri": "https://localhost:8080/",
          "height": 80
        },
        "id": "VmJmAlKNubqa",
        "outputId": "31709686-98b1-486c-d07d-148db5911287"
      },
      "execution_count": null,
      "outputs": [
        {
          "output_type": "execute_result",
          "data": {
            "text/plain": [
              "RandomForestClassifier()"
            ],
            "text/html": [
              "<style>#sk-container-id-1 {\n",
              "  /* Definition of color scheme common for light and dark mode */\n",
              "  --sklearn-color-text: #000;\n",
              "  --sklearn-color-text-muted: #666;\n",
              "  --sklearn-color-line: gray;\n",
              "  /* Definition of color scheme for unfitted estimators */\n",
              "  --sklearn-color-unfitted-level-0: #fff5e6;\n",
              "  --sklearn-color-unfitted-level-1: #f6e4d2;\n",
              "  --sklearn-color-unfitted-level-2: #ffe0b3;\n",
              "  --sklearn-color-unfitted-level-3: chocolate;\n",
              "  /* Definition of color scheme for fitted estimators */\n",
              "  --sklearn-color-fitted-level-0: #f0f8ff;\n",
              "  --sklearn-color-fitted-level-1: #d4ebff;\n",
              "  --sklearn-color-fitted-level-2: #b3dbfd;\n",
              "  --sklearn-color-fitted-level-3: cornflowerblue;\n",
              "\n",
              "  /* Specific color for light theme */\n",
              "  --sklearn-color-text-on-default-background: var(--sg-text-color, var(--theme-code-foreground, var(--jp-content-font-color1, black)));\n",
              "  --sklearn-color-background: var(--sg-background-color, var(--theme-background, var(--jp-layout-color0, white)));\n",
              "  --sklearn-color-border-box: var(--sg-text-color, var(--theme-code-foreground, var(--jp-content-font-color1, black)));\n",
              "  --sklearn-color-icon: #696969;\n",
              "\n",
              "  @media (prefers-color-scheme: dark) {\n",
              "    /* Redefinition of color scheme for dark theme */\n",
              "    --sklearn-color-text-on-default-background: var(--sg-text-color, var(--theme-code-foreground, var(--jp-content-font-color1, white)));\n",
              "    --sklearn-color-background: var(--sg-background-color, var(--theme-background, var(--jp-layout-color0, #111)));\n",
              "    --sklearn-color-border-box: var(--sg-text-color, var(--theme-code-foreground, var(--jp-content-font-color1, white)));\n",
              "    --sklearn-color-icon: #878787;\n",
              "  }\n",
              "}\n",
              "\n",
              "#sk-container-id-1 {\n",
              "  color: var(--sklearn-color-text);\n",
              "}\n",
              "\n",
              "#sk-container-id-1 pre {\n",
              "  padding: 0;\n",
              "}\n",
              "\n",
              "#sk-container-id-1 input.sk-hidden--visually {\n",
              "  border: 0;\n",
              "  clip: rect(1px 1px 1px 1px);\n",
              "  clip: rect(1px, 1px, 1px, 1px);\n",
              "  height: 1px;\n",
              "  margin: -1px;\n",
              "  overflow: hidden;\n",
              "  padding: 0;\n",
              "  position: absolute;\n",
              "  width: 1px;\n",
              "}\n",
              "\n",
              "#sk-container-id-1 div.sk-dashed-wrapped {\n",
              "  border: 1px dashed var(--sklearn-color-line);\n",
              "  margin: 0 0.4em 0.5em 0.4em;\n",
              "  box-sizing: border-box;\n",
              "  padding-bottom: 0.4em;\n",
              "  background-color: var(--sklearn-color-background);\n",
              "}\n",
              "\n",
              "#sk-container-id-1 div.sk-container {\n",
              "  /* jupyter's `normalize.less` sets `[hidden] { display: none; }`\n",
              "     but bootstrap.min.css set `[hidden] { display: none !important; }`\n",
              "     so we also need the `!important` here to be able to override the\n",
              "     default hidden behavior on the sphinx rendered scikit-learn.org.\n",
              "     See: https://github.com/scikit-learn/scikit-learn/issues/21755 */\n",
              "  display: inline-block !important;\n",
              "  position: relative;\n",
              "}\n",
              "\n",
              "#sk-container-id-1 div.sk-text-repr-fallback {\n",
              "  display: none;\n",
              "}\n",
              "\n",
              "div.sk-parallel-item,\n",
              "div.sk-serial,\n",
              "div.sk-item {\n",
              "  /* draw centered vertical line to link estimators */\n",
              "  background-image: linear-gradient(var(--sklearn-color-text-on-default-background), var(--sklearn-color-text-on-default-background));\n",
              "  background-size: 2px 100%;\n",
              "  background-repeat: no-repeat;\n",
              "  background-position: center center;\n",
              "}\n",
              "\n",
              "/* Parallel-specific style estimator block */\n",
              "\n",
              "#sk-container-id-1 div.sk-parallel-item::after {\n",
              "  content: \"\";\n",
              "  width: 100%;\n",
              "  border-bottom: 2px solid var(--sklearn-color-text-on-default-background);\n",
              "  flex-grow: 1;\n",
              "}\n",
              "\n",
              "#sk-container-id-1 div.sk-parallel {\n",
              "  display: flex;\n",
              "  align-items: stretch;\n",
              "  justify-content: center;\n",
              "  background-color: var(--sklearn-color-background);\n",
              "  position: relative;\n",
              "}\n",
              "\n",
              "#sk-container-id-1 div.sk-parallel-item {\n",
              "  display: flex;\n",
              "  flex-direction: column;\n",
              "}\n",
              "\n",
              "#sk-container-id-1 div.sk-parallel-item:first-child::after {\n",
              "  align-self: flex-end;\n",
              "  width: 50%;\n",
              "}\n",
              "\n",
              "#sk-container-id-1 div.sk-parallel-item:last-child::after {\n",
              "  align-self: flex-start;\n",
              "  width: 50%;\n",
              "}\n",
              "\n",
              "#sk-container-id-1 div.sk-parallel-item:only-child::after {\n",
              "  width: 0;\n",
              "}\n",
              "\n",
              "/* Serial-specific style estimator block */\n",
              "\n",
              "#sk-container-id-1 div.sk-serial {\n",
              "  display: flex;\n",
              "  flex-direction: column;\n",
              "  align-items: center;\n",
              "  background-color: var(--sklearn-color-background);\n",
              "  padding-right: 1em;\n",
              "  padding-left: 1em;\n",
              "}\n",
              "\n",
              "\n",
              "/* Toggleable style: style used for estimator/Pipeline/ColumnTransformer box that is\n",
              "clickable and can be expanded/collapsed.\n",
              "- Pipeline and ColumnTransformer use this feature and define the default style\n",
              "- Estimators will overwrite some part of the style using the `sk-estimator` class\n",
              "*/\n",
              "\n",
              "/* Pipeline and ColumnTransformer style (default) */\n",
              "\n",
              "#sk-container-id-1 div.sk-toggleable {\n",
              "  /* Default theme specific background. It is overwritten whether we have a\n",
              "  specific estimator or a Pipeline/ColumnTransformer */\n",
              "  background-color: var(--sklearn-color-background);\n",
              "}\n",
              "\n",
              "/* Toggleable label */\n",
              "#sk-container-id-1 label.sk-toggleable__label {\n",
              "  cursor: pointer;\n",
              "  display: flex;\n",
              "  width: 100%;\n",
              "  margin-bottom: 0;\n",
              "  padding: 0.5em;\n",
              "  box-sizing: border-box;\n",
              "  text-align: center;\n",
              "  align-items: start;\n",
              "  justify-content: space-between;\n",
              "  gap: 0.5em;\n",
              "}\n",
              "\n",
              "#sk-container-id-1 label.sk-toggleable__label .caption {\n",
              "  font-size: 0.6rem;\n",
              "  font-weight: lighter;\n",
              "  color: var(--sklearn-color-text-muted);\n",
              "}\n",
              "\n",
              "#sk-container-id-1 label.sk-toggleable__label-arrow:before {\n",
              "  /* Arrow on the left of the label */\n",
              "  content: \"▸\";\n",
              "  float: left;\n",
              "  margin-right: 0.25em;\n",
              "  color: var(--sklearn-color-icon);\n",
              "}\n",
              "\n",
              "#sk-container-id-1 label.sk-toggleable__label-arrow:hover:before {\n",
              "  color: var(--sklearn-color-text);\n",
              "}\n",
              "\n",
              "/* Toggleable content - dropdown */\n",
              "\n",
              "#sk-container-id-1 div.sk-toggleable__content {\n",
              "  max-height: 0;\n",
              "  max-width: 0;\n",
              "  overflow: hidden;\n",
              "  text-align: left;\n",
              "  /* unfitted */\n",
              "  background-color: var(--sklearn-color-unfitted-level-0);\n",
              "}\n",
              "\n",
              "#sk-container-id-1 div.sk-toggleable__content.fitted {\n",
              "  /* fitted */\n",
              "  background-color: var(--sklearn-color-fitted-level-0);\n",
              "}\n",
              "\n",
              "#sk-container-id-1 div.sk-toggleable__content pre {\n",
              "  margin: 0.2em;\n",
              "  border-radius: 0.25em;\n",
              "  color: var(--sklearn-color-text);\n",
              "  /* unfitted */\n",
              "  background-color: var(--sklearn-color-unfitted-level-0);\n",
              "}\n",
              "\n",
              "#sk-container-id-1 div.sk-toggleable__content.fitted pre {\n",
              "  /* unfitted */\n",
              "  background-color: var(--sklearn-color-fitted-level-0);\n",
              "}\n",
              "\n",
              "#sk-container-id-1 input.sk-toggleable__control:checked~div.sk-toggleable__content {\n",
              "  /* Expand drop-down */\n",
              "  max-height: 200px;\n",
              "  max-width: 100%;\n",
              "  overflow: auto;\n",
              "}\n",
              "\n",
              "#sk-container-id-1 input.sk-toggleable__control:checked~label.sk-toggleable__label-arrow:before {\n",
              "  content: \"▾\";\n",
              "}\n",
              "\n",
              "/* Pipeline/ColumnTransformer-specific style */\n",
              "\n",
              "#sk-container-id-1 div.sk-label input.sk-toggleable__control:checked~label.sk-toggleable__label {\n",
              "  color: var(--sklearn-color-text);\n",
              "  background-color: var(--sklearn-color-unfitted-level-2);\n",
              "}\n",
              "\n",
              "#sk-container-id-1 div.sk-label.fitted input.sk-toggleable__control:checked~label.sk-toggleable__label {\n",
              "  background-color: var(--sklearn-color-fitted-level-2);\n",
              "}\n",
              "\n",
              "/* Estimator-specific style */\n",
              "\n",
              "/* Colorize estimator box */\n",
              "#sk-container-id-1 div.sk-estimator input.sk-toggleable__control:checked~label.sk-toggleable__label {\n",
              "  /* unfitted */\n",
              "  background-color: var(--sklearn-color-unfitted-level-2);\n",
              "}\n",
              "\n",
              "#sk-container-id-1 div.sk-estimator.fitted input.sk-toggleable__control:checked~label.sk-toggleable__label {\n",
              "  /* fitted */\n",
              "  background-color: var(--sklearn-color-fitted-level-2);\n",
              "}\n",
              "\n",
              "#sk-container-id-1 div.sk-label label.sk-toggleable__label,\n",
              "#sk-container-id-1 div.sk-label label {\n",
              "  /* The background is the default theme color */\n",
              "  color: var(--sklearn-color-text-on-default-background);\n",
              "}\n",
              "\n",
              "/* On hover, darken the color of the background */\n",
              "#sk-container-id-1 div.sk-label:hover label.sk-toggleable__label {\n",
              "  color: var(--sklearn-color-text);\n",
              "  background-color: var(--sklearn-color-unfitted-level-2);\n",
              "}\n",
              "\n",
              "/* Label box, darken color on hover, fitted */\n",
              "#sk-container-id-1 div.sk-label.fitted:hover label.sk-toggleable__label.fitted {\n",
              "  color: var(--sklearn-color-text);\n",
              "  background-color: var(--sklearn-color-fitted-level-2);\n",
              "}\n",
              "\n",
              "/* Estimator label */\n",
              "\n",
              "#sk-container-id-1 div.sk-label label {\n",
              "  font-family: monospace;\n",
              "  font-weight: bold;\n",
              "  display: inline-block;\n",
              "  line-height: 1.2em;\n",
              "}\n",
              "\n",
              "#sk-container-id-1 div.sk-label-container {\n",
              "  text-align: center;\n",
              "}\n",
              "\n",
              "/* Estimator-specific */\n",
              "#sk-container-id-1 div.sk-estimator {\n",
              "  font-family: monospace;\n",
              "  border: 1px dotted var(--sklearn-color-border-box);\n",
              "  border-radius: 0.25em;\n",
              "  box-sizing: border-box;\n",
              "  margin-bottom: 0.5em;\n",
              "  /* unfitted */\n",
              "  background-color: var(--sklearn-color-unfitted-level-0);\n",
              "}\n",
              "\n",
              "#sk-container-id-1 div.sk-estimator.fitted {\n",
              "  /* fitted */\n",
              "  background-color: var(--sklearn-color-fitted-level-0);\n",
              "}\n",
              "\n",
              "/* on hover */\n",
              "#sk-container-id-1 div.sk-estimator:hover {\n",
              "  /* unfitted */\n",
              "  background-color: var(--sklearn-color-unfitted-level-2);\n",
              "}\n",
              "\n",
              "#sk-container-id-1 div.sk-estimator.fitted:hover {\n",
              "  /* fitted */\n",
              "  background-color: var(--sklearn-color-fitted-level-2);\n",
              "}\n",
              "\n",
              "/* Specification for estimator info (e.g. \"i\" and \"?\") */\n",
              "\n",
              "/* Common style for \"i\" and \"?\" */\n",
              "\n",
              ".sk-estimator-doc-link,\n",
              "a:link.sk-estimator-doc-link,\n",
              "a:visited.sk-estimator-doc-link {\n",
              "  float: right;\n",
              "  font-size: smaller;\n",
              "  line-height: 1em;\n",
              "  font-family: monospace;\n",
              "  background-color: var(--sklearn-color-background);\n",
              "  border-radius: 1em;\n",
              "  height: 1em;\n",
              "  width: 1em;\n",
              "  text-decoration: none !important;\n",
              "  margin-left: 0.5em;\n",
              "  text-align: center;\n",
              "  /* unfitted */\n",
              "  border: var(--sklearn-color-unfitted-level-1) 1pt solid;\n",
              "  color: var(--sklearn-color-unfitted-level-1);\n",
              "}\n",
              "\n",
              ".sk-estimator-doc-link.fitted,\n",
              "a:link.sk-estimator-doc-link.fitted,\n",
              "a:visited.sk-estimator-doc-link.fitted {\n",
              "  /* fitted */\n",
              "  border: var(--sklearn-color-fitted-level-1) 1pt solid;\n",
              "  color: var(--sklearn-color-fitted-level-1);\n",
              "}\n",
              "\n",
              "/* On hover */\n",
              "div.sk-estimator:hover .sk-estimator-doc-link:hover,\n",
              ".sk-estimator-doc-link:hover,\n",
              "div.sk-label-container:hover .sk-estimator-doc-link:hover,\n",
              ".sk-estimator-doc-link:hover {\n",
              "  /* unfitted */\n",
              "  background-color: var(--sklearn-color-unfitted-level-3);\n",
              "  color: var(--sklearn-color-background);\n",
              "  text-decoration: none;\n",
              "}\n",
              "\n",
              "div.sk-estimator.fitted:hover .sk-estimator-doc-link.fitted:hover,\n",
              ".sk-estimator-doc-link.fitted:hover,\n",
              "div.sk-label-container:hover .sk-estimator-doc-link.fitted:hover,\n",
              ".sk-estimator-doc-link.fitted:hover {\n",
              "  /* fitted */\n",
              "  background-color: var(--sklearn-color-fitted-level-3);\n",
              "  color: var(--sklearn-color-background);\n",
              "  text-decoration: none;\n",
              "}\n",
              "\n",
              "/* Span, style for the box shown on hovering the info icon */\n",
              ".sk-estimator-doc-link span {\n",
              "  display: none;\n",
              "  z-index: 9999;\n",
              "  position: relative;\n",
              "  font-weight: normal;\n",
              "  right: .2ex;\n",
              "  padding: .5ex;\n",
              "  margin: .5ex;\n",
              "  width: min-content;\n",
              "  min-width: 20ex;\n",
              "  max-width: 50ex;\n",
              "  color: var(--sklearn-color-text);\n",
              "  box-shadow: 2pt 2pt 4pt #999;\n",
              "  /* unfitted */\n",
              "  background: var(--sklearn-color-unfitted-level-0);\n",
              "  border: .5pt solid var(--sklearn-color-unfitted-level-3);\n",
              "}\n",
              "\n",
              ".sk-estimator-doc-link.fitted span {\n",
              "  /* fitted */\n",
              "  background: var(--sklearn-color-fitted-level-0);\n",
              "  border: var(--sklearn-color-fitted-level-3);\n",
              "}\n",
              "\n",
              ".sk-estimator-doc-link:hover span {\n",
              "  display: block;\n",
              "}\n",
              "\n",
              "/* \"?\"-specific style due to the `<a>` HTML tag */\n",
              "\n",
              "#sk-container-id-1 a.estimator_doc_link {\n",
              "  float: right;\n",
              "  font-size: 1rem;\n",
              "  line-height: 1em;\n",
              "  font-family: monospace;\n",
              "  background-color: var(--sklearn-color-background);\n",
              "  border-radius: 1rem;\n",
              "  height: 1rem;\n",
              "  width: 1rem;\n",
              "  text-decoration: none;\n",
              "  /* unfitted */\n",
              "  color: var(--sklearn-color-unfitted-level-1);\n",
              "  border: var(--sklearn-color-unfitted-level-1) 1pt solid;\n",
              "}\n",
              "\n",
              "#sk-container-id-1 a.estimator_doc_link.fitted {\n",
              "  /* fitted */\n",
              "  border: var(--sklearn-color-fitted-level-1) 1pt solid;\n",
              "  color: var(--sklearn-color-fitted-level-1);\n",
              "}\n",
              "\n",
              "/* On hover */\n",
              "#sk-container-id-1 a.estimator_doc_link:hover {\n",
              "  /* unfitted */\n",
              "  background-color: var(--sklearn-color-unfitted-level-3);\n",
              "  color: var(--sklearn-color-background);\n",
              "  text-decoration: none;\n",
              "}\n",
              "\n",
              "#sk-container-id-1 a.estimator_doc_link.fitted:hover {\n",
              "  /* fitted */\n",
              "  background-color: var(--sklearn-color-fitted-level-3);\n",
              "}\n",
              "</style><div id=\"sk-container-id-1\" class=\"sk-top-container\"><div class=\"sk-text-repr-fallback\"><pre>RandomForestClassifier()</pre><b>In a Jupyter environment, please rerun this cell to show the HTML representation or trust the notebook. <br />On GitHub, the HTML representation is unable to render, please try loading this page with nbviewer.org.</b></div><div class=\"sk-container\" hidden><div class=\"sk-item\"><div class=\"sk-estimator fitted sk-toggleable\"><input class=\"sk-toggleable__control sk-hidden--visually\" id=\"sk-estimator-id-1\" type=\"checkbox\" checked><label for=\"sk-estimator-id-1\" class=\"sk-toggleable__label fitted sk-toggleable__label-arrow\"><div><div>RandomForestClassifier</div></div><div><a class=\"sk-estimator-doc-link fitted\" rel=\"noreferrer\" target=\"_blank\" href=\"https://scikit-learn.org/1.6/modules/generated/sklearn.ensemble.RandomForestClassifier.html\">?<span>Documentation for RandomForestClassifier</span></a><span class=\"sk-estimator-doc-link fitted\">i<span>Fitted</span></span></div></label><div class=\"sk-toggleable__content fitted\"><pre>RandomForestClassifier()</pre></div> </div></div></div></div>"
            ]
          },
          "metadata": {},
          "execution_count": 6
        }
      ]
    },
    {
      "cell_type": "markdown",
      "source": [
        "**18.What does model.predict() do? What arguments must be given?**\n",
        "- The model.predict() function is used to make predictions on new, unseen input data using a trained model.\n",
        "\n",
        "- It takes the input features (like test data) and returns the model’s output — either predicted class labels or probabilities depending on the type of model."
      ],
      "metadata": {
        "id": "-QLGmP3Gq1xZ"
      }
    },
    {
      "cell_type": "code",
      "source": [
        "from sklearn.datasets import load_iris\n",
        "from sklearn.ensemble import RandomForestClassifier\n",
        "from sklearn.model_selection import train_test_split\n",
        "from sklearn.metrics import accuracy_score\n",
        "\n",
        "# Load the Iris dataset\n",
        "iris = load_iris()\n",
        "X = iris.data            # Features\n",
        "y = iris.target          # Target labels\n",
        "\n",
        "# Split the data into training and testing sets\n",
        "X_train, X_test, y_train, y_test = train_test_split(X, y, test_size=0.2, random_state=42)\n",
        "\n",
        "# Create and train the model\n",
        "model = RandomForestClassifier()\n",
        "model.fit(X_train, y_train)  # model.fit() trains the model\n",
        "\n",
        "# Make predictions\n",
        "y_pred = model.predict(X_test)  # model.predict() returns predicted labels\n",
        "\n",
        "# Evaluate the model\n",
        "accuracy = accuracy_score(y_test, y_pred)\n",
        "print(\"Predicted Labels:\", y_pred)\n",
        "print(\"Actual Labels:   \", y_test)\n",
        "print(\"Accuracy:\", accuracy)"
      ],
      "metadata": {
        "colab": {
          "base_uri": "https://localhost:8080/"
        },
        "id": "Zaqka5jpu4E8",
        "outputId": "067be868-1371-42c8-d6d5-51e68f81868c"
      },
      "execution_count": null,
      "outputs": [
        {
          "output_type": "stream",
          "name": "stdout",
          "text": [
            "Predicted Labels: [1 0 2 1 1 0 1 2 1 1 2 0 0 0 0 1 2 1 1 2 0 2 0 2 2 2 2 2 0 0]\n",
            "Actual Labels:    [1 0 2 1 1 0 1 2 1 1 2 0 0 0 0 1 2 1 1 2 0 2 0 2 2 2 2 2 0 0]\n",
            "Accuracy: 1.0\n"
          ]
        }
      ]
    },
    {
      "cell_type": "markdown",
      "source": [
        "**21. What is feature scaling? How does it help in Machine Learning?**\n",
        "- Feature scaling is the process of standardizing or normalizing the range of independent variables (features) so that they are on a similar scale.\n",
        "- Many machine learning algorithms use distance, gradient descent, or weights to learn. If one feature has much larger values than others, it can dominate the learning process.\n",
        "-\tHelps in algorithms like:\n",
        "\t-\tKNN (K-Nearest Neighbors)\n",
        "\t-\tSVM (Support Vector Machine)\n",
        "\t-\tLogistic Regression\n",
        "\t-\tNeural Networks\n",
        "\t-\tGradient Descent–based models\n",
        "-\tFaster convergence in optimization\n",
        "-\tBetter accuracy and stable training"
      ],
      "metadata": {
        "id": "Z_JCNwyiuu2R"
      }
    },
    {
      "cell_type": "markdown",
      "source": [],
      "metadata": {
        "id": "VQM6IHumuuzq"
      }
    },
    {
      "cell_type": "markdown",
      "source": [
        "**22. Explain data encoding?**\n",
        "- Data encoding is the process of converting categorical (non-numerical) values into a numerical format so that machine learning models can understand and use them.\n",
        "\n",
        "- Most machine learning algorithms can’t work with text directly  they need numbers. So we encode data like \"Male\", \"Female\", \"Red\", \"Green\" into numbers.\n",
        "- Types of encoding\n",
        " -\tLabel Encoding: Assigns a unique number to each label.\n",
        " - One-Hot Encoding: Turns categories into binary columns.\n",
        " -\tOrdinal Encoding: Converts ordered categories to numbers based on order.\n"
      ],
      "metadata": {
        "id": "64OMpJrmuuxE"
      }
    }
  ]
}